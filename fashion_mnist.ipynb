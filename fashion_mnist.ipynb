{
 "cells": [
  {
   "cell_type": "code",
   "execution_count": 1,
   "id": "valued-collar",
   "metadata": {},
   "outputs": [],
   "source": [
    "%config InlineBackend.figure_format='retina'\n"
   ]
  },
  {
   "cell_type": "code",
   "execution_count": 2,
   "id": "impossible-profession",
   "metadata": {},
   "outputs": [
    {
     "name": "stdout",
     "output_type": "stream",
     "text": [
      "trax                     1.3.7\n"
     ]
    }
   ],
   "source": [
    "import trax.data as data\n",
    "import trax   \n",
    "from trax import layers as tl\n",
    "from trax.supervised import training\n",
    "import trax.fastmath.numpy as jnp\n",
    "import numpy as np\n",
    "import matplotlib.pyplot as plt\n",
    "np.set_printoptions(linewidth=200)\n",
    "%matplotlib inline\n",
    "!pip list | grep trax"
   ]
  },
  {
   "cell_type": "code",
   "execution_count": 3,
   "id": "incredible-pathology",
   "metadata": {},
   "outputs": [],
   "source": [
    "train_stream_fn = data.TFDS('fashion_mnist', \n",
    "                            keys=('image', 'label'),\n",
    "                            data_dir='./data',\n",
    "                            eval_holdout_size=0.01,  # 1% for eval\n",
    "                            train=True\n",
    "                            )\n",
    "eval_stream_fn = data.TFDS('fashion_mnist', \n",
    "                           keys=('image', 'label'),\n",
    "                           data_dir='./data',\n",
    "                            eval_holdout_size=0.01,  # 1% for eval\n",
    "                            train=False\n",
    "                            )"
   ]
  },
  {
   "cell_type": "code",
   "execution_count": 4,
   "id": "known-inspection",
   "metadata": {},
   "outputs": [],
   "source": [
    "testdt = train_stream_fn()"
   ]
  },
  {
   "cell_type": "code",
   "execution_count": 5,
   "id": "fifth-detector",
   "metadata": {},
   "outputs": [],
   "source": [
    "a, b = next(testdt)"
   ]
  },
  {
   "cell_type": "code",
   "execution_count": 6,
   "id": "graduate-digit",
   "metadata": {},
   "outputs": [
    {
     "data": {
      "text/plain": [
       "(28, 28, 1)"
      ]
     },
     "execution_count": 6,
     "metadata": {},
     "output_type": "execute_result"
    }
   ],
   "source": [
    "a.shape"
   ]
  },
  {
   "cell_type": "code",
   "execution_count": 7,
   "id": "vital-contact",
   "metadata": {},
   "outputs": [
    {
     "data": {
      "text/plain": [
       "(numpy.ndarray, numpy.int64)"
      ]
     },
     "execution_count": 7,
     "metadata": {},
     "output_type": "execute_result"
    }
   ],
   "source": [
    "type(a), type(b)"
   ]
  },
  {
   "cell_type": "code",
   "execution_count": 8,
   "id": "intense-secret",
   "metadata": {},
   "outputs": [
    {
     "data": {
      "text/plain": [
       "<matplotlib.image.AxesImage at 0x7f1fbc8300f0>"
      ]
     },
     "execution_count": 8,
     "metadata": {},
     "output_type": "execute_result"
    },
    {
     "data": {
      "image/png": "[encoded data removed]",
      "text/plain": [
       "<Figure size 432x288 with 1 Axes>"
      ]
     },
     "metadata": {
      "image/png": {
       "height": 248,
       "width": 251
      },
      "needs_background": "light"
     },
     "output_type": "display_data"
    }
   ],
   "source": [
    "plt.imshow(a)"
   ]
  },
  {
   "cell_type": "code",
   "execution_count": 9,
   "id": "essential-variance",
   "metadata": {},
   "outputs": [
    {
     "name": "stdout",
     "output_type": "stream",
     "text": [
      "[[  0   0   0   1   0   0   0   0  11  16  99 124  20  11   0   2   0   4 111 146  13  19   8   0   0   0   0   0]\n",
      " [  0   0   0   0   0   0   9  59  60  45  31 143 157 141 135  95 166 254 147  33  34  49  60  33   0   0   0   0]\n",
      " [  0   0   0   0   0   1  49  49  35  34  34   8  35  77 150  48 122  88   0  12  35  27  31  49  17   0   0   0]\n",
      " [  0   0   1   0   0  22  53  35  42  35  42  55  20  15  20  11   2   4  33  24  24  28  33  26  41   1   0   0]\n",
      " [  0   0   0   0   0  41  48  46  31  49  56  27  30  31  24  27  31  33  28  41  30  24  41  39  35  12   0   0]\n",
      " [  0   0   0   0   0  44  53  28  46  68  17  24  28  26  28  27  26  24  22  35  44  49  52  74  34  13   0   0]\n",
      " [  0   0   0   0   0  48  46  52  85  49  17  26  24  27  27  26  26  26  24  15  13  48  35  46  33  20   0   0]\n",
      " [  0   0   0   0  11  39  33  92  57  23  24  24  28  26  26  26  26  27  22  24   9  95 135  41  39  30   0   0]\n",
      " [  0   0   0   0  34  37  81 143  97  13  34  27  26  26  26  26  26  27  22  24  13 107 121  22  67  27   0   0]\n",
      " [  0   0   0  12  41  56  45  88  78  23  37  33  28  30  28  27  27  27  27  27  17  41 140  73  90  37   0   0]\n",
      " [  0   0   0  49  73  67   9 108 150   9  39  31  28  27  30  28  28  30  26  34  20  53  75  62  93  24   2   0]\n",
      " [  0   0   0  53  63  23  23 130 161   8  41  30  28  27  28  28  28  30  28  33  19  60 102  78 108  46  22   0]\n",
      " [  0   0  51 137 113   6  28 106  82  19  39  31  30  30  30  30  30  31  30  30  26  27 100  84 100  66  30   0]\n",
      " [  0   0  11  62  48  16  26 117  39  30  38  34  30  31  31  31  31  31  27  26  27  23  99  56  34  71  49   0]\n",
      " [  0   0   0   0  20  26  30 113   8  49  35  35  31  33  33  33  33  33  27  30  26  23 144  70  15  30  24   0]\n",
      " [  0   0   0   0  46  27  35  95  13  46  37  37  33  33  33  33  33  34  30  34  24  27 122  79  30  24  20   0]\n",
      " [  0   0   0   0  39  30  34  99  13  46  37  35  34  34  33  33  33  34  30  33  30   8 150 103  22  31  20   0]\n",
      " [  0   0   0   0  41  27  35  92  17  42  37  34  33  33  33  33  33  33  30  34  35   5 124 107  34  27  24   0]\n",
      " [  0   0   0   1  41  26  39  88  24  39  38  34  33  33  34  34  34  34  33  34  33  26  57 103  55  26  31   0]\n",
      " [  0   0   0   1  41  24  44  85  33  39  38  34  31  33  34  34  34  35  31  37  35  24  38 110  52  27  26   0]\n",
      " [  0   0   0   2  44  28  42  82  48  33  39  37  38  38  34  37  37  38  33  37  34  31  19 106  53  34  27   0]\n",
      " [  0   0   0   1  45  26  42 102  62  24  41  38  38  38  34  37  37  38  33  37  37  35  12 106  53  39  30   0]\n",
      " [  0   0   0   1  44  23  48 121  75  23  41  37  37  37  33  35  35  37  33  39  39  35  19 103  63  41  31   0]\n",
      " [  0   0   0   1  44  23  46 113  67  17  42  37  38  39  34  37  37  38  31  41  39  31   4  71  74  44  35   0]\n",
      " [  0   0   0   0  46  30  34  99  84  19  41  38  37  33  30  31  31  38  37  41  38  51  79  48  86  46  35   0]\n",
      " [  0   0   0   0  48  27  37  67  60  17  45  46  52  53  52  46  35  39  41  34  35  62 106  52  95  46  41   0]\n",
      " [  0   0   0   2  55  35  60  17   0   0   0   5  11  13  11   8   4   4   4   0   0   0   0  70 117  52  42   0]\n",
      " [  0   0   0   0   8   4  39  22   0   0   0   0   0   0   0   0   0   0   0   0   0   0   0  56 104  13   4   0]]\n",
      "6\n"
     ]
    }
   ],
   "source": [
    "print(a[:,:,0])\n",
    "print(b)"
   ]
  },
  {
   "cell_type": "code",
   "execution_count": 10,
   "id": "electronic-senegal",
   "metadata": {},
   "outputs": [],
   "source": [
    "# def pre_process(stream, batch_size):\n",
    "#     count = 0\n",
    "#     ib = []\n",
    "#     tb = []\n",
    "#     for inputs, targets in stream:\n",
    "#         count += 1\n",
    "#         normalized_inputs = inputs / 255.0\n",
    "#         flatten_inputs = normalized_inputs.flatten()\n",
    "#         ib.append(flatten_inputs)\n",
    "#         tb.append(targets)\n",
    "#         if len(ib) == batch_size:\n",
    "#             ret_inputs = jnp.array(ib)\n",
    "#             ret_targets = jnp.array(tb)\n",
    "#             ret_weights = jnp.ones_like(ret_targets)\n",
    "#             yield ret_inputs, ret_targets, ret_weights\n",
    "#             tb = []\n",
    "#             ib = []\n",
    "            "
   ]
  },
  {
   "cell_type": "code",
   "execution_count": 11,
   "id": "significant-liberal",
   "metadata": {},
   "outputs": [],
   "source": [
    "batch_size = 32\n",
    "\n",
    "data_pipeline = data.Serial(\n",
    "    lambda g: map(lambda pair: (pair[0] / 255.0, pair[1]), g),\n",
    "    lambda h: map(lambda pair: (pair[0].flatten(), pair[1]), h),\n",
    "    data.Shuffle(),\n",
    "    data.Batch(batch_size),\n",
    "    data.AddLossWeights()\n",
    ")"
   ]
  },
  {
   "cell_type": "code",
   "execution_count": 12,
   "id": "floating-familiar",
   "metadata": {},
   "outputs": [],
   "source": [
    "\n",
    "# train_stream = pre_process(train_stream_fn(), batch_size)\n",
    "# eval_stream = pre_process(eval_stream_fn(), batch_size)\n",
    "\n",
    "train_stream = data_pipeline(train_stream_fn())\n",
    "eval_stream = data_pipeline(eval_stream_fn())"
   ]
  },
  {
   "cell_type": "code",
   "execution_count": 13,
   "id": "classified-memphis",
   "metadata": {},
   "outputs": [
    {
     "name": "stdout",
     "output_type": "stream",
     "text": [
      "(32, 784)\n",
      "(32,)\n",
      "(32,)\n"
     ]
    }
   ],
   "source": [
    "a, b, m = next(train_stream)\n",
    "print(a.shape)\n",
    "print(b.shape)\n",
    "print(m.shape)"
   ]
  },
  {
   "cell_type": "code",
   "execution_count": 14,
   "id": "antique-colors",
   "metadata": {},
   "outputs": [
    {
     "name": "stdout",
     "output_type": "stream",
     "text": [
      "input_batch data type:  <class 'numpy.ndarray'>\n",
      "target_batch data type:  <class 'numpy.ndarray'>\n",
      "input_batch shape:  (32, 784)\n",
      "target_batch shape:  (32,)\n"
     ]
    }
   ],
   "source": [
    "input_batch, target_batch, mask_arr = next(train_stream)\n",
    "\n",
    "# let's see the data type of a batch\n",
    "print(\"input_batch data type: \", type(input_batch))\n",
    "print(\"target_batch data type: \", type(target_batch))\n",
    "\n",
    "# let's see the shape of this particular batch (batch length, sentence length)\n",
    "print(\"input_batch shape: \", input_batch.shape)\n",
    "print(\"target_batch shape: \", target_batch.shape)"
   ]
  },
  {
   "cell_type": "code",
   "execution_count": 15,
   "id": "taken-highland",
   "metadata": {},
   "outputs": [],
   "source": [
    "def classifier():\n",
    "    model = tl.Serial(\n",
    "        tl.Dense(128),\n",
    "        tl.Relu(),\n",
    "        tl.Dense(10),\n",
    "        tl.LogSoftmax()\n",
    "    )\n",
    "    return model"
   ]
  },
  {
   "cell_type": "code",
   "execution_count": 16,
   "id": "gothic-malawi",
   "metadata": {},
   "outputs": [
    {
     "name": "stdout",
     "output_type": "stream",
     "text": [
      "Serial[\n",
      "  Dense_128\n",
      "  Serial[\n",
      "    Relu\n",
      "  ]\n",
      "  Dense_10\n",
      "  LogSoftmax\n",
      "]\n"
     ]
    }
   ],
   "source": [
    "tmp_model = classifier()\n",
    "print(tmp_model)"
   ]
  },
  {
   "cell_type": "code",
   "execution_count": 17,
   "id": "cloudy-protection",
   "metadata": {},
   "outputs": [],
   "source": [
    "from trax.supervised import training\n",
    "\n",
    "#rnd.seed(271)\n",
    "\n",
    "train_task = training.TrainTask(\n",
    "    labeled_data=train_stream,\n",
    "    loss_layer=tl.WeightedCategoryCrossEntropy(),\n",
    "    #loss_layer=tl.CrossEntropyLoss(),\n",
    "    optimizer=trax.optimizers.Adam(0.01),\n",
    "    n_steps_per_checkpoint=50,\n",
    ")\n",
    "\n",
    "eval_task = training.EvalTask(\n",
    "    labeled_data=eval_stream,\n",
    "    # metrics=[tl.CrossEntropyLoss(), tl.Accuracy()],\n",
    "    metrics=[tl.WeightedCategoryCrossEntropy(), tl.WeightedCategoryAccuracy()],\n",
    ")\n",
    "\n",
    "model = classifier()"
   ]
  },
  {
   "cell_type": "code",
   "execution_count": 18,
   "id": "combined-password",
   "metadata": {},
   "outputs": [
    {
     "name": "stdout",
     "output_type": "stream",
     "text": [
      "model/\n"
     ]
    }
   ],
   "source": [
    "import os\n",
    "!rm -f model/model.pkl.gz\n",
    "output_dir = 'model/'\n",
    "output_dir_expand = os.path.expanduser(output_dir)\n",
    "print(output_dir_expand)"
   ]
  },
  {
   "cell_type": "code",
   "execution_count": 19,
   "id": "japanese-contribution",
   "metadata": {},
   "outputs": [],
   "source": [
    "def train_model(classifier, train_task, eval_task, n_steps, output_dir):\n",
    "    '''\n",
    "    Input: \n",
    "        classifier - the model you are building\n",
    "        train_task - Training task\n",
    "        eval_task - Evaluation task\n",
    "        n_steps - the evaluation steps\n",
    "        output_dir - folder to save your files\n",
    "    Output:\n",
    "        trainer -  trax trainer\n",
    "    '''\n",
    "\n",
    "    training_loop = training.Loop(\n",
    "                                classifier,\n",
    "                                train_task, # The training task\n",
    "                                eval_tasks = eval_task, # The evaluation task\n",
    "                                output_dir = output_dir, # The output directory\n",
    "                                random_seed=31 )\n",
    "\n",
    "    training_loop.run(n_steps = n_steps)\n",
    "\n",
    "    return training_loop"
   ]
  },
  {
   "cell_type": "code",
   "execution_count": 20,
   "id": "unlike-praise",
   "metadata": {},
   "outputs": [
    {
     "name": "stdout",
     "output_type": "stream",
     "text": [
      "\n",
      "Step      1: Total number of trainable weights: 101770\n",
      "Step      1: Ran 1 train steps in 5.63 secs\n",
      "Step      1: train WeightedCategoryCrossEntropy |  2.47513437\n",
      "Step      1: eval  WeightedCategoryCrossEntropy |  3.56399488\n",
      "Step      1: eval      WeightedCategoryAccuracy |  0.12500000\n",
      "\n",
      "Step     50: Ran 49 train steps in 0.64 secs\n",
      "Step     50: train WeightedCategoryCrossEntropy |  1.18216193\n",
      "Step     50: eval  WeightedCategoryCrossEntropy |  0.56566221\n",
      "Step     50: eval      WeightedCategoryAccuracy |  0.71875000\n",
      "\n",
      "Step    100: Ran 50 train steps in 0.60 secs\n",
      "Step    100: train WeightedCategoryCrossEntropy |  0.68381906\n",
      "Step    100: eval  WeightedCategoryCrossEntropy |  0.59188449\n",
      "Step    100: eval      WeightedCategoryAccuracy |  0.75000000\n",
      "\n",
      "Step    150: Ran 50 train steps in 0.60 secs\n",
      "Step    150: train WeightedCategoryCrossEntropy |  0.63119042\n",
      "Step    150: eval  WeightedCategoryCrossEntropy |  0.32026398\n",
      "Step    150: eval      WeightedCategoryAccuracy |  0.87500000\n",
      "\n",
      "Step    200: Ran 50 train steps in 0.60 secs\n",
      "Step    200: train WeightedCategoryCrossEntropy |  0.67534733\n",
      "Step    200: eval  WeightedCategoryCrossEntropy |  0.49263519\n",
      "Step    200: eval      WeightedCategoryAccuracy |  0.84375000\n",
      "\n",
      "Step    250: Ran 50 train steps in 0.64 secs\n",
      "Step    250: train WeightedCategoryCrossEntropy |  0.62165713\n",
      "Step    250: eval  WeightedCategoryCrossEntropy |  0.35347080\n",
      "Step    250: eval      WeightedCategoryAccuracy |  0.87500000\n"
     ]
    }
   ],
   "source": [
    "training_loop = train_model(model, train_task, eval_task, 250, output_dir_expand)"
   ]
  },
  {
   "cell_type": "code",
   "execution_count": 29,
   "id": "latin-tours",
   "metadata": {},
   "outputs": [
    {
     "name": "stdout",
     "output_type": "stream",
     "text": [
      "The classification result 1\n",
      "\n",
      "[[  0.   0.   0.   0.   0.   0.   0.   0.   0.  82. 179. 157. 170. 116. 138. 199. 150. 191. 105.   0.   0.   0.   0.   0.   0.   0.   0.   0.]\n",
      " [  0.   0.   0.   0.   0.   0.   0.   0.   0.  66. 138. 168. 196. 166. 230. 200. 128. 117.  60.   0.   0.   0.   0.   0.   0.   0.   0.   0.]\n",
      " [  0.   0.   0.   0.   0.   0.   0.   0.   0. 105. 186. 200. 183. 171. 161. 167. 189. 178.  95.   0.   0.   0.   0.   0.   0.   0.   0.   0.]\n",
      " [  0.   0.   0.   0.   0.   0.   0.   0.   0. 207. 156. 117. 123. 194. 197. 143. 101. 111. 125.   0.   0.   0.   0.   0.   0.   0.   0.   0.]\n",
      " [  0.   0.   0.   0.   0.   0.   0.   0.   0. 160. 128. 117. 126. 159. 167. 160. 131. 108.  99.   0.   0.   0.   0.   0.   0.   0.   0.   0.]\n",
      " [  0.   0.   0.   0.   0.   0.   0.   0.   0. 143. 139. 123. 140. 199. 210. 179. 150. 129. 114.   0.   0.   0.   0.   0.   0.   0.   0.   0.]\n",
      " [  0.   0.   0.   0.   0.   0.   0.   0.   0. 118. 110.  94. 137. 214. 214. 183. 117. 103.  94.   0.   0.   0.   0.   0.   0.   0.   0.   0.]\n",
      " [  0.   0.   0.   0.   0.   0.   0.   0.   0. 128. 136. 116. 153. 167. 162. 180. 120. 121. 108.   0.   0.   0.   0.   0.   0.   0.   0.   0.]\n",
      " [  0.   0.   0.   0.   0.   0.   0.   0.   0. 117. 123.  81. 137. 167. 168. 148.  89.  87.  89.   0.   0.   0.   0.   0.   0.   0.   0.   0.]\n",
      " [  0.   0.   0.   0.   0.   0.   0.   0.   0.  89. 128.  71. 138. 129. 122. 172.  86.  82.  88.   0.   0.   0.   0.   0.   0.   0.   0.   0.]\n",
      " [  0.   0.   0.   0.   0.   0.   0.   0.   0.  70. 138.  69. 138. 105.  81. 193.  87.  89.  74.   0.   0.   0.   0.   0.   0.   0.   0.   0.]\n",
      " [  0.   0.   0.   0.   0.   0.   0.   0.   0.  47. 133.  65. 142.  72.  43. 159.  80. 111.  55.   0.   0.   0.   0.   0.   0.   0.   0.   0.]\n",
      " [  0.   0.   0.   0.   0.   0.   0.   0.   0.  12. 140.  66. 154.  47.  36. 160.  74. 125.  24.   0.   0.   0.   0.   0.   0.   0.   0.   0.]\n",
      " [  0.   0.   0.   0.   0.   0.   0.   0.   0.   1. 144.  69. 161.  41.  27. 172.  63. 127.   9.   0.   0.   0.   0.   0.   0.   0.   0.   0.]\n",
      " [  0.   0.   0.   0.   0.   0.   0.   0.   0.   0. 142.  75. 167.  31.  17. 179.  55. 131.   8.   0.   0.   0.   0.   0.   0.   0.   0.   0.]\n",
      " [  0.   0.   0.   0.   0.   0.   0.   0.   0.   0. 148.  77. 182.  25.   1. 194.  55. 133.   4.   0.   0.   0.   0.   0.   0.   0.   0.   0.]\n",
      " [  0.   0.   0.   0.   0.   0.   0.   0.   0.   0. 153.  75. 199.  13.   0. 213.  64. 142.   0.   0.   0.   0.   0.   0.   0.   0.   0.   0.]\n",
      " [  0.   0.   0.   0.   0.   0.   0.   0.   0.   0. 155.  98. 207.   0.   0. 214.  85. 132.   0.   0.   0.   0.   0.   0.   0.   0.   0.   0.]\n",
      " [  0.   0.   0.   0.   0.   0.   0.   0.   0.   0. 168. 162. 223.   0.   0. 227. 146. 143.   0.   0.   0.   0.   0.   0.   0.   0.   0.   0.]\n",
      " [  0.   0.   0.   0.   0.   0.   0.   0.   0.   0. 189. 194. 241.   0.   0. 245. 184. 177.   0.   0.   0.   0.   0.   0.   0.   0.   0.   0.]\n",
      " [  0.   0.   0.   0.   0.   0.   0.   0.   0.   0. 189. 210. 248.   0.   0. 247. 203. 194.   0.   0.   0.   0.   0.   0.   0.   0.   0.   0.]\n",
      " [  0.   0.   0.   0.   0.   0.   0.   0.   0.   0. 203. 219. 251.   0.   0. 248. 214. 210.   0.   0.   0.   0.   0.   0.   0.   0.   0.   0.]\n",
      " [  0.   0.   0.   0.   0.   0.   0.   0.   0.   0. 203. 229. 253.   0.   0. 254. 225. 210.   0.   0.   0.   0.   0.   0.   0.   0.   0.   0.]\n",
      " [  0.   0.   0.   0.   0.   0.   0.   0.   0.   0. 174. 234. 252.   0.   0. 246. 231. 188.   0.   0.   0.   0.   0.   0.   0.   0.   0.   0.]\n",
      " [  0.   0.   0.   0.   0.   0.   0.   0.   0.   0. 166. 231. 229.   0.   0. 225. 233. 180.   0.   0.   0.   0.   0.   0.   0.   0.   0.   0.]\n",
      " [  0.   0.   0.   0.   0.   0.   0.   0.   0.   0. 202. 242. 229.   0.   0. 220. 241. 216.   0.   0.   0.   0.   0.   0.   0.   0.   0.   0.]\n",
      " [  0.   0.   0.   0.   0.   0.   0.   0.   0.   0. 188. 237. 241.   0.   0. 234. 236. 196.   0.   0.   0.   0.   0.   0.   0.   0.   0.   0.]\n",
      " [  0.   0.   0.   0.   0.   0.   0.   0.   0.   0.  91. 233. 193.   0.   0. 183. 233. 110.   0.   0.   0.   0.   0.   0.   0.   0.   0.   0.]]\n"
     ]
    }
   ],
   "source": [
    "example_input = next(eval_stream)[0][0]\n",
    "\n",
    "result = model(example_input[None, :])\n",
    "print(f'The classification result {jnp.argmax(result)}')\n",
    "print()\n",
    "print(example_input.reshape(28,28)*255.0)"
   ]
  }
 ],
 "metadata": {
  "kernelspec": {
   "display_name": "Python 3",
   "language": "python",
   "name": "python3"
  },
  "language_info": {
   "codemirror_mode": {
    "name": "ipython",
    "version": 3
   },
   "file_extension": ".py",
   "mimetype": "text/x-python",
   "name": "python",
   "nbconvert_exporter": "python",
   "pygments_lexer": "ipython3",
   "version": "3.6.9"
  },
  "widgets": {
   "application/vnd.jupyter.widget-state+json": {
    "state": {},
    "version_major": 2,
    "version_minor": 0
   }
  }
 },
 "nbformat": 4,
 "nbformat_minor": 5
}
