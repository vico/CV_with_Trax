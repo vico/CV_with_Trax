{
 "cells": [
  {
   "cell_type": "code",
   "execution_count": 1,
   "id": "hundred-knitting",
   "metadata": {},
   "outputs": [],
   "source": [
    "%config InlineBackend.figure_format='retina'\n"
   ]
  },
  {
   "cell_type": "code",
   "execution_count": 2,
   "id": "parallel-treasurer",
   "metadata": {},
   "outputs": [
    {
     "name": "stderr",
     "output_type": "stream",
     "text": [
      "WARNING:root:Argument blacklist is deprecated. Please use denylist.\n",
      "WARNING:root:Argument blacklist is deprecated. Please use denylist.\n",
      "WARNING:root:Argument blacklist is deprecated. Please use denylist.\n",
      "WARNING:root:Argument blacklist is deprecated. Please use denylist.\n",
      "WARNING:root:Argument blacklist is deprecated. Please use denylist.\n",
      "WARNING:root:Argument blacklist is deprecated. Please use denylist.\n",
      "WARNING:root:Argument blacklist is deprecated. Please use denylist.\n",
      "WARNING:root:Argument blacklist is deprecated. Please use denylist.\n",
      "WARNING:root:Argument blacklist is deprecated. Please use denylist.\n",
      "WARNING:root:Argument blacklist is deprecated. Please use denylist.\n",
      "WARNING:root:Argument blacklist is deprecated. Please use denylist.\n",
      "WARNING:root:Argument blacklist is deprecated. Please use denylist.\n",
      "WARNING:root:Argument blacklist is deprecated. Please use denylist.\n",
      "WARNING:root:Argument blacklist is deprecated. Please use denylist.\n",
      "WARNING:root:Argument blacklist is deprecated. Please use denylist.\n",
      "WARNING:root:Argument blacklist is deprecated. Please use denylist.\n",
      "WARNING:root:Argument blacklist is deprecated. Please use denylist.\n",
      "WARNING:root:Argument blacklist is deprecated. Please use denylist.\n",
      "WARNING:root:Argument blacklist is deprecated. Please use denylist.\n",
      "WARNING:root:Argument blacklist is deprecated. Please use denylist.\n",
      "WARNING:root:Argument blacklist is deprecated. Please use denylist.\n",
      "WARNING:root:Argument blacklist is deprecated. Please use denylist.\n",
      "WARNING:root:Argument blacklist is deprecated. Please use denylist.\n",
      "WARNING:root:Argument blacklist is deprecated. Please use denylist.\n",
      "WARNING:root:Argument blacklist is deprecated. Please use denylist.\n",
      "WARNING:root:Argument blacklist is deprecated. Please use denylist.\n",
      "WARNING:root:Argument blacklist is deprecated. Please use denylist.\n",
      "WARNING:root:Argument blacklist is deprecated. Please use denylist.\n"
     ]
    },
    {
     "name": "stdout",
     "output_type": "stream",
     "text": [
      "trax                     1.3.6\n"
     ]
    }
   ],
   "source": [
    "import trax.data as data\n",
    "import trax   \n",
    "from trax import layers as tl\n",
    "from trax.supervised import training\n",
    "import trax.fastmath.numpy as jnp\n",
    "import numpy as np\n",
    "import matplotlib.pyplot as plt\n",
    "np.set_printoptions(linewidth=200)\n",
    "%matplotlib inline\n",
    "!pip list | grep trax"
   ]
  },
  {
   "cell_type": "code",
   "execution_count": 3,
   "id": "operational-clear",
   "metadata": {},
   "outputs": [
    {
     "name": "stdout",
     "output_type": "stream",
     "text": [
      "\u001b[1mDownloading and preparing dataset 29.45 MiB (download: 29.45 MiB, generated: 36.42 MiB, total: 65.87 MiB) to ./data/fashion_mnist/3.0.1...\u001b[0m\n"
     ]
    },
    {
     "data": {
      "application/vnd.jupyter.widget-view+json": {
       "model_id": "4710284c9a5042c8ad5e0f7688e8e035",
       "version_major": 2,
       "version_minor": 0
      },
      "text/plain": [
       "Dl Completed...: 0 url [00:00, ? url/s]"
      ]
     },
     "metadata": {},
     "output_type": "display_data"
    },
    {
     "data": {
      "application/vnd.jupyter.widget-view+json": {
       "model_id": "1a6727610c834a798d497c995adf4825",
       "version_major": 2,
       "version_minor": 0
      },
      "text/plain": [
       "Dl Size...: 0 MiB [00:00, ? MiB/s]"
      ]
     },
     "metadata": {},
     "output_type": "display_data"
    },
    {
     "data": {
      "application/vnd.jupyter.widget-view+json": {
       "model_id": "9f49cf92dbd8406d84274571477c09b9",
       "version_major": 2,
       "version_minor": 0
      },
      "text/plain": [
       "Extraction completed...: 0 file [00:00, ? file/s]"
      ]
     },
     "metadata": {},
     "output_type": "display_data"
    },
    {
     "name": "stdout",
     "output_type": "stream",
     "text": [
      "\n",
      "\n",
      "\n"
     ]
    },
    {
     "data": {
      "application/vnd.jupyter.widget-view+json": {
       "model_id": "",
       "version_major": 2,
       "version_minor": 0
      },
      "text/plain": [
       "Generating splits...:   0%|          | 0/2 [00:00<?, ? splits/s]"
      ]
     },
     "metadata": {},
     "output_type": "display_data"
    },
    {
     "data": {
      "application/vnd.jupyter.widget-view+json": {
       "model_id": "",
       "version_major": 2,
       "version_minor": 0
      },
      "text/plain": [
       "Generating train examples...:   0%|          | 0/60000 [00:00<?, ? examples/s]"
      ]
     },
     "metadata": {},
     "output_type": "display_data"
    },
    {
     "data": {
      "application/vnd.jupyter.widget-view+json": {
       "model_id": "",
       "version_major": 2,
       "version_minor": 0
      },
      "text/plain": [
       "Shuffling fashion_mnist-train.tfrecord...:   0%|          | 0/60000 [00:00<?, ? examples/s]"
      ]
     },
     "metadata": {},
     "output_type": "display_data"
    },
    {
     "data": {
      "application/vnd.jupyter.widget-view+json": {
       "model_id": "",
       "version_major": 2,
       "version_minor": 0
      },
      "text/plain": [
       "Generating test examples...:   0%|          | 0/10000 [00:00<?, ? examples/s]"
      ]
     },
     "metadata": {},
     "output_type": "display_data"
    },
    {
     "data": {
      "application/vnd.jupyter.widget-view+json": {
       "model_id": "",
       "version_major": 2,
       "version_minor": 0
      },
      "text/plain": [
       "Shuffling fashion_mnist-test.tfrecord...:   0%|          | 0/10000 [00:00<?, ? examples/s]"
      ]
     },
     "metadata": {},
     "output_type": "display_data"
    },
    {
     "name": "stdout",
     "output_type": "stream",
     "text": [
      "\u001b[1mDataset fashion_mnist downloaded and prepared to ./data/fashion_mnist/3.0.1. Subsequent calls will reuse this data.\u001b[0m\n"
     ]
    }
   ],
   "source": [
    "train_stream_fn = data.TFDS('fashion_mnist', \n",
    "                            keys=('image', 'label'),\n",
    "                            data_dir='./data',\n",
    "                            eval_holdout_size=0.01,  # 1% for eval\n",
    "                            train=True\n",
    "                            )\n",
    "eval_stream_fn = data.TFDS('fashion_mnist', \n",
    "                           keys=('image', 'label'),\n",
    "                           data_dir='./data',\n",
    "                            eval_holdout_size=0.01,  # 1% for eval\n",
    "                            train=False\n",
    "                            )"
   ]
  },
  {
   "cell_type": "code",
   "execution_count": 4,
   "id": "manufactured-correction",
   "metadata": {},
   "outputs": [],
   "source": [
    "testdt = train_stream_fn()"
   ]
  },
  {
   "cell_type": "code",
   "execution_count": 5,
   "id": "occupational-marketplace",
   "metadata": {},
   "outputs": [],
   "source": [
    "a, b = next(testdt)"
   ]
  },
  {
   "cell_type": "code",
   "execution_count": 6,
   "id": "liked-oriental",
   "metadata": {},
   "outputs": [
    {
     "data": {
      "text/plain": [
       "(28, 28, 1)"
      ]
     },
     "execution_count": 6,
     "metadata": {},
     "output_type": "execute_result"
    }
   ],
   "source": [
    "a.shape"
   ]
  },
  {
   "cell_type": "code",
   "execution_count": 7,
   "id": "bizarre-bulgaria",
   "metadata": {},
   "outputs": [
    {
     "data": {
      "text/plain": [
       "(numpy.ndarray, numpy.int64)"
      ]
     },
     "execution_count": 7,
     "metadata": {},
     "output_type": "execute_result"
    }
   ],
   "source": [
    "type(a), type(b)"
   ]
  },
  {
   "cell_type": "code",
   "execution_count": 8,
   "id": "statutory-hepatitis",
   "metadata": {},
   "outputs": [
    {
     "data": {
      "text/plain": [
       "<matplotlib.image.AxesImage at 0x7ff478048f98>"
      ]
     },
     "execution_count": 8,
     "metadata": {},
     "output_type": "execute_result"
    },
    {
     "data": {
      "image/png": "[encoded data removed]",
      "text/plain": [
       "<Figure size 432x288 with 1 Axes>"
      ]
     },
     "metadata": {
      "image/png": {
       "height": 248,
       "width": 251
      },
      "needs_background": "light"
     },
     "output_type": "display_data"
    }
   ],
   "source": [
    "plt.imshow(a)"
   ]
  },
  {
   "cell_type": "code",
   "execution_count": 9,
   "id": "gentle-notebook",
   "metadata": {},
   "outputs": [
    {
     "name": "stdout",
     "output_type": "stream",
     "text": [
      "[[  0   0   0   0   0   0   0   0   0   0  59  77  58  56  58  57  65  89   2   0   0   0   0   0   0   0   0   0]\n",
      " [  0   0   0   0   0   0   0   0   0   0 245 213 199 192 188 189 184 226  90   0   0   0   0   0   0   0   0   0]\n",
      " [  0   0   0   0   0   0   0   0   0 101 255 242 247 255 255 255 245 252 208   0   0   0   0   0   0   0   0   0]\n",
      " [  0   0   0   0   0   0   0   0   0 178 252 233 235 233 231 232 234 241 245   0   0   0   0   0   0   0   0   0]\n",
      " [  0   0   0   0   0   0   0   0   0 246 246 235 240 238 237 238 237 236 255   2   0   0   0   0   0   0   0   0]\n",
      " [  0   0   0   0   0   0   0   0   0 255 239 237 239 239 238 237 238 234 255  70   0   0   0   0   0   0   0   0]\n",
      " [  0   0   0   0   0   0   0   0  18 255 237 237 238 236 237 237 241 232 255 102   0   0   0   0   0   0   0   0]\n",
      " [  0   0   0   0   0   0   0   0  35 255 232 238 237 243 248 238 238 232 255 121   0   0   0   0   0   0   0   0]\n",
      " [  0   0   0   0   0   0   0   0  35 255 233 237 244 226 217 252 236 229 255 145   0   0   0   0   0   0   0   0]\n",
      " [  0   0   0   0   0   0   0   0  13 255 238 235 250 205 169 255 234 228 255 131   0   0   0   0   0   0   0   0]\n",
      " [  0   0   0   0   0   0   0   0   0 255 239 234 248 225 184 255 233 231 255 100   0   0   0   0   0   0   0   0]\n",
      " [  0   0   0   0   0   0   0   0   0 252 244 231 254 209 141 255 229 233 255  42   0   0   0   0   0   0   0   0]\n",
      " [  0   0   0   0   0   0   0   0   0 205 250 233 255 199 101 255 230 236 255   0   0   0   0   0   0   0   0   0]\n",
      " [  0   0   0   0   0   0   0   0   0 134 255 232 255 210  95 255 227 242 238   0   0   0   0   0   0   0   0   0]\n",
      " [  0   0   0   0   0   0   0   0   0  52 250 233 251 221  82 255 231 248 195   0   0   0   0   0   0   0   0   0]\n",
      " [  0   0   0   0   0   0   0   0   0   0 255 238 249 224  79 255 231 250 147   0   0   0   0   0   0   0   0   0]\n",
      " [  0   0   0   0   0   0   0   0   0   0 219 247 244 223  81 255 230 251  75   0   0   0   0   0   0   0   0   0]\n",
      " [  0   0   0   0   0   0   0   0   0   0 171 254 238 228  74 255 232 246  45   0   0   0   0   0   0   0   0   0]\n",
      " [  0   0   0   0   0   0   0   0   3   0 149 254 239 233  33 255 231 246  54   0   0   0   0   0   0   0   0   0]\n",
      " [  0   0   0   0   0   0   0   0   2   0 150 254 248 181   0 255 237 248  57   0   0   0   0   0   0   0   0   0]\n",
      " [  0   0   0   0   0   0   0   0   1   0 169 250 251 116   0 231 247 252 101   0   0   0   0   0   0   0   0   0]\n",
      " [  0   0   0   0   0   0   0   0   0   0 207 245 251 123   0 235 249 251 143   0   0   0   0   0   0   0   0   0]\n",
      " [  0   0   0   0   0   0   0   0   0   0 229 244 253 140   0 237 249 250 148   0   0   0   0   0   0   0   0   0]\n",
      " [  0   0   0   0   0   0   0   0   0   0 212 244 251 144   0 182 252 253 131   0   0   0   0   0   0   0   0   0]\n",
      " [  0   0   0   0   0   0   0   0   1   0 173 251 247 101   0 120 253 251 108   0   0   0   0   0   0   0   0   0]\n",
      " [  0   0   0   0   0   0   0   0   3   0 127 251 243  47   0  83 253 247  66   0   0   0   0   0   0   0   0   0]\n",
      " [  0   0   0   0   0   0   0   0   3   0  74 255 252  28   0  58 255 255  41   0   0   0   0   0   0   0   0   0]\n",
      " [  0   0   0   0   0   0   0   0   1   0   0 151 141   0   0   0 156 155   0   0   0   0   0   0   0   0   0   0]]\n",
      "1\n"
     ]
    }
   ],
   "source": [
    "print(a[:,:,0])\n",
    "print(b)"
   ]
  },
  {
   "cell_type": "code",
   "execution_count": 10,
   "id": "stunning-approach",
   "metadata": {},
   "outputs": [],
   "source": [
    "# def pre_process(stream, batch_size):\n",
    "#     count = 0\n",
    "#     ib = []\n",
    "#     tb = []\n",
    "#     for inputs, targets in stream:\n",
    "#         count += 1\n",
    "#         normalized_inputs = inputs / 255.0\n",
    "#         flatten_inputs = normalized_inputs.flatten()\n",
    "#         ib.append(flatten_inputs)\n",
    "#         tb.append(targets)\n",
    "#         if len(ib) == batch_size:\n",
    "#             ret_inputs = jnp.array(ib)\n",
    "#             ret_targets = jnp.array(tb)\n",
    "#             ret_weights = jnp.ones_like(ret_targets)\n",
    "#             yield ret_inputs, ret_targets, ret_weights\n",
    "#             tb = []\n",
    "#             ib = []\n",
    "            "
   ]
  },
  {
   "cell_type": "code",
   "execution_count": 11,
   "id": "cardiovascular-lafayette",
   "metadata": {},
   "outputs": [],
   "source": [
    "batch_size = 32\n",
    "\n",
    "data_pipeline = data.Serial(\n",
    "    lambda g: map(lambda pair: (pair[0] / 255.0, pair[1]), g),\n",
    "    lambda h: map(lambda pair: (pair[0].flatten(), pair[1]), h),\n",
    "    data.Shuffle(),\n",
    "    data.Batch(batch_size),\n",
    "    data.AddLossWeights()\n",
    ")"
   ]
  },
  {
   "cell_type": "code",
   "execution_count": 12,
   "id": "smoking-testing",
   "metadata": {},
   "outputs": [],
   "source": [
    "\n",
    "# train_stream = pre_process(train_stream_fn(), batch_size)\n",
    "# eval_stream = pre_process(eval_stream_fn(), batch_size)\n",
    "\n",
    "train_stream = data_pipeline(train_stream_fn())\n",
    "eval_stream = data_pipeline(eval_stream_fn())"
   ]
  },
  {
   "cell_type": "code",
   "execution_count": 13,
   "id": "enormous-moral",
   "metadata": {},
   "outputs": [
    {
     "name": "stdout",
     "output_type": "stream",
     "text": [
      "(32, 784)\n",
      "(32,)\n",
      "(32,)\n"
     ]
    }
   ],
   "source": [
    "a, b, m = next(train_stream)\n",
    "print(a.shape)\n",
    "print(b.shape)\n",
    "print(m.shape)"
   ]
  },
  {
   "cell_type": "code",
   "execution_count": 14,
   "id": "requested-casino",
   "metadata": {},
   "outputs": [
    {
     "name": "stdout",
     "output_type": "stream",
     "text": [
      "input_batch data type:  <class 'numpy.ndarray'>\n",
      "target_batch data type:  <class 'numpy.ndarray'>\n",
      "input_batch shape:  (32, 784)\n",
      "target_batch shape:  (32,)\n"
     ]
    }
   ],
   "source": [
    "input_batch, target_batch, mask_arr = next(train_stream)\n",
    "\n",
    "# let's see the data type of a batch\n",
    "print(\"input_batch data type: \", type(input_batch))\n",
    "print(\"target_batch data type: \", type(target_batch))\n",
    "\n",
    "# let's see the shape of this particular batch (batch length, sentence length)\n",
    "print(\"input_batch shape: \", input_batch.shape)\n",
    "print(\"target_batch shape: \", target_batch.shape)"
   ]
  },
  {
   "cell_type": "code",
   "execution_count": 15,
   "id": "separate-border",
   "metadata": {},
   "outputs": [],
   "source": [
    "def classifier():\n",
    "    model = tl.Serial(\n",
    "        tl.Dense(128),\n",
    "        tl.Relu(),\n",
    "        tl.Dense(10),\n",
    "        tl.LogSoftmax()\n",
    "    )\n",
    "    return model"
   ]
  },
  {
   "cell_type": "code",
   "execution_count": 16,
   "id": "empty-merchandise",
   "metadata": {},
   "outputs": [
    {
     "name": "stdout",
     "output_type": "stream",
     "text": [
      "Serial[\n",
      "  Dense_128\n",
      "  Relu\n",
      "  Dense_10\n",
      "  LogSoftmax\n",
      "]\n"
     ]
    }
   ],
   "source": [
    "tmp_model = classifier()\n",
    "print(tmp_model)"
   ]
  },
  {
   "cell_type": "code",
   "execution_count": 17,
   "id": "boolean-wireless",
   "metadata": {},
   "outputs": [],
   "source": [
    "from trax.supervised import training\n",
    "\n",
    "#rnd.seed(271)\n",
    "\n",
    "train_task = training.TrainTask(\n",
    "    labeled_data=train_stream,\n",
    "    loss_layer=tl.CrossEntropyLoss(),\n",
    "    optimizer=trax.optimizers.Adam(0.01),\n",
    "    n_steps_per_checkpoint=50,\n",
    ")\n",
    "\n",
    "eval_task = training.EvalTask(\n",
    "    labeled_data=eval_stream,\n",
    "    metrics=[tl.CrossEntropyLoss(), tl.Accuracy()],\n",
    ")\n",
    "\n",
    "model = classifier()"
   ]
  },
  {
   "cell_type": "code",
   "execution_count": 18,
   "id": "placed-tobago",
   "metadata": {},
   "outputs": [
    {
     "name": "stdout",
     "output_type": "stream",
     "text": [
      "model/\n"
     ]
    }
   ],
   "source": [
    "import os\n",
    "!rm -f model/model.pkl.gz\n",
    "output_dir = 'model/'\n",
    "output_dir_expand = os.path.expanduser(output_dir)\n",
    "print(output_dir_expand)"
   ]
  },
  {
   "cell_type": "code",
   "execution_count": 19,
   "id": "protected-sacrifice",
   "metadata": {},
   "outputs": [],
   "source": [
    "def train_model(classifier, train_task, eval_task, n_steps, output_dir):\n",
    "    '''\n",
    "    Input: \n",
    "        classifier - the model you are building\n",
    "        train_task - Training task\n",
    "        eval_task - Evaluation task\n",
    "        n_steps - the evaluation steps\n",
    "        output_dir - folder to save your files\n",
    "    Output:\n",
    "        trainer -  trax trainer\n",
    "    '''\n",
    "\n",
    "    training_loop = training.Loop(\n",
    "                                classifier,\n",
    "                                train_task, # The training task\n",
    "                                eval_tasks = eval_task, # The evaluation task\n",
    "                                output_dir = output_dir, # The output directory\n",
    "                                random_seed=31 )\n",
    "\n",
    "    training_loop.run(n_steps = n_steps)\n",
    "\n",
    "    return training_loop"
   ]
  },
  {
   "cell_type": "code",
   "execution_count": 20,
   "id": "studied-calibration",
   "metadata": {},
   "outputs": [
    {
     "name": "stdout",
     "output_type": "stream",
     "text": [
      "\n",
      "Step      1: Total number of trainable weights: 101770\n",
      "Step      1: Ran 1 train steps in 3.41 secs\n",
      "Step      1: train CrossEntropyLoss |  2.46453619\n",
      "Step      1: eval  CrossEntropyLoss |  2.78103042\n",
      "Step      1: eval          Accuracy |  0.15625000\n",
      "\n",
      "Step     50: Ran 49 train steps in 1.76 secs\n",
      "Step     50: train CrossEntropyLoss |  1.07703793\n",
      "Step     50: eval  CrossEntropyLoss |  0.57935828\n",
      "Step     50: eval          Accuracy |  0.71875000\n",
      "\n",
      "Step    100: Ran 50 train steps in 0.65 secs\n",
      "Step    100: train CrossEntropyLoss |  0.69753492\n",
      "Step    100: eval  CrossEntropyLoss |  0.66917574\n",
      "Step    100: eval          Accuracy |  0.75000000\n",
      "\n",
      "Step    150: Ran 50 train steps in 0.61 secs\n",
      "Step    150: train CrossEntropyLoss |  0.65480161\n",
      "Step    150: eval  CrossEntropyLoss |  0.34159136\n",
      "Step    150: eval          Accuracy |  0.90625000\n",
      "\n",
      "Step    200: Ran 50 train steps in 0.60 secs\n",
      "Step    200: train CrossEntropyLoss |  0.66642928\n",
      "Step    200: eval  CrossEntropyLoss |  0.51226622\n",
      "Step    200: eval          Accuracy |  0.81250000\n",
      "\n",
      "Step    250: Ran 50 train steps in 0.62 secs\n",
      "Step    250: train CrossEntropyLoss |  0.61282045\n",
      "Step    250: eval  CrossEntropyLoss |  0.30302688\n",
      "Step    250: eval          Accuracy |  0.90625000\n"
     ]
    }
   ],
   "source": [
    "training_loop = train_model(model, train_task, eval_task, 250, output_dir_expand)"
   ]
  },
  {
   "cell_type": "code",
   "execution_count": null,
   "id": "specific-decline",
   "metadata": {},
   "outputs": [],
   "source": []
  }
 ],
 "metadata": {
  "kernelspec": {
   "display_name": "Python 3",
   "language": "python",
   "name": "python3"
  },
  "language_info": {
   "codemirror_mode": {
    "name": "ipython",
    "version": 3
   },
   "file_extension": ".py",
   "mimetype": "text/x-python",
   "name": "python",
   "nbconvert_exporter": "python",
   "pygments_lexer": "ipython3",
   "version": "3.6.9"
  },
  "widgets": {
   "application/vnd.jupyter.widget-state+json": {
    "state": {
     "0165f515dc0943a2b41c2f4f731de2a6": {
      "model_module": "@jupyter-widgets/controls",
      "model_module_version": "1.5.0",
      "model_name": "HTMLModel",
      "state": {
       "layout": "IPY_MODEL_d607b6b6022c4d10bbe5d8445a54d348",
       "style": "IPY_MODEL_5842d1410b5644a2bfcab3ac503089a7",
       "value": " 46556/60000 [00:00&lt;00:00, 180820.66 examples/s]"
      }
     },
     "0df751858d5a4d3c84ef243ddda6eab0": {
      "model_module": "@jupyter-widgets/base",
      "model_module_version": "1.2.0",
      "model_name": "LayoutModel",
      "state": {
       "width": "20px"
      }
     },
     "1713b7a58a4e42f290efd54c131331b3": {
      "model_module": "@jupyter-widgets/base",
      "model_module_version": "1.2.0",
      "model_name": "LayoutModel",
      "state": {}
     },
     "1783fe144b3a4f54b5a6d5ce849c7406": {
      "model_module": "@jupyter-widgets/controls",
      "model_module_version": "1.5.0",
      "model_name": "HTMLModel",
      "state": {
       "layout": "IPY_MODEL_ae0738c6037d4adc8cd57fb67a521f92",
       "style": "IPY_MODEL_2af1967e7f28498d9910131f0fc0c30b",
       "value": "Generating test examples...:  99%"
      }
     },
     "1a6727610c834a798d497c995adf4825": {
      "model_module": "@jupyter-widgets/controls",
      "model_module_version": "1.5.0",
      "model_name": "HBoxModel",
      "state": {
       "children": [
        "IPY_MODEL_eae8f46c4a464e9aa10c406a2d293add",
        "IPY_MODEL_c22de42e0a4a4b0a843e04c3a8429276",
        "IPY_MODEL_f3f87baae60c44ad9950eb35bcbe38f5"
       ],
       "layout": "IPY_MODEL_b0c66dfafe2349aba7108e969c41232a"
      }
     },
     "1ac4334f484743caa0cadb3f1edb2c9d": {
      "model_module": "@jupyter-widgets/controls",
      "model_module_version": "1.5.0",
      "model_name": "HTMLModel",
      "state": {
       "layout": "IPY_MODEL_d5389ffa86c045eaaf05db66290af84e",
       "style": "IPY_MODEL_5bb9988b88a04b85b96b72056d5cfc74",
       "value": "Dl Completed...: 100%"
      }
     },
     "1daf928e6eef4045b8b28b8b4d6e2a81": {
      "model_module": "@jupyter-widgets/base",
      "model_module_version": "1.2.0",
      "model_name": "LayoutModel",
      "state": {}
     },
     "1f41453299664c558074232400330ddc": {
      "model_module": "@jupyter-widgets/controls",
      "model_module_version": "1.5.0",
      "model_name": "DescriptionStyleModel",
      "state": {
       "description_width": ""
      }
     },
     "2806b0b35e874067ac5819e4bf0f0d77": {
      "model_module": "@jupyter-widgets/controls",
      "model_module_version": "1.5.0",
      "model_name": "ProgressStyleModel",
      "state": {
       "description_width": ""
      }
     },
     "2a661c38ac4c49d0aaba9bb3274040b3": {
      "model_module": "@jupyter-widgets/controls",
      "model_module_version": "1.5.0",
      "model_name": "HTMLModel",
      "state": {
       "layout": "IPY_MODEL_b72f074ffbff4fb5ae14abaf6e9e614b",
       "style": "IPY_MODEL_fb9d28d7b1ec46c797ab788ddafc9c29",
       "value": "Generating splits...: 100%"
      }
     },
     "2af1967e7f28498d9910131f0fc0c30b": {
      "model_module": "@jupyter-widgets/controls",
      "model_module_version": "1.5.0",
      "model_name": "DescriptionStyleModel",
      "state": {
       "description_width": ""
      }
     },
     "2f81afe3440c41489b7a130eee60ee66": {
      "model_module": "@jupyter-widgets/controls",
      "model_module_version": "1.5.0",
      "model_name": "DescriptionStyleModel",
      "state": {
       "description_width": ""
      }
     },
     "31016e8e931141848e7c8c133da846d7": {
      "model_module": "@jupyter-widgets/controls",
      "model_module_version": "1.5.0",
      "model_name": "DescriptionStyleModel",
      "state": {
       "description_width": ""
      }
     },
     "3408f3d861554f98933210f228de2d44": {
      "model_module": "@jupyter-widgets/controls",
      "model_module_version": "1.5.0",
      "model_name": "HTMLModel",
      "state": {
       "layout": "IPY_MODEL_4867ee112d7f4acea997f5a4dd3e3908",
       "style": "IPY_MODEL_31016e8e931141848e7c8c133da846d7",
       "value": "Generating train examples...: 100%"
      }
     },
     "39e2f0aa150e4c5685a69b12118cd0dd": {
      "model_module": "@jupyter-widgets/controls",
      "model_module_version": "1.5.0",
      "model_name": "ProgressStyleModel",
      "state": {
       "description_width": ""
      }
     },
     "450bbb00bd1c49d5a8fb4332e4107192": {
      "model_module": "@jupyter-widgets/base",
      "model_module_version": "1.2.0",
      "model_name": "LayoutModel",
      "state": {
       "width": "20px"
      }
     },
     "4710284c9a5042c8ad5e0f7688e8e035": {
      "model_module": "@jupyter-widgets/controls",
      "model_module_version": "1.5.0",
      "model_name": "HBoxModel",
      "state": {
       "children": [
        "IPY_MODEL_1ac4334f484743caa0cadb3f1edb2c9d",
        "IPY_MODEL_cdd6149a842e4812b40887f4cf65d3b5",
        "IPY_MODEL_c6eede37910742889076be9c217f347b"
       ],
       "layout": "IPY_MODEL_f6d954e25caf476cbf937e4b958cfc62"
      }
     },
     "4712a88d16484174b8e22126c72c5e6f": {
      "model_module": "@jupyter-widgets/controls",
      "model_module_version": "1.5.0",
      "model_name": "DescriptionStyleModel",
      "state": {
       "description_width": ""
      }
     },
     "477c5e7018de4b2688dbccb5751cc0c8": {
      "model_module": "@jupyter-widgets/base",
      "model_module_version": "1.2.0",
      "model_name": "LayoutModel",
      "state": {
       "width": "20px"
      }
     },
     "4867ee112d7f4acea997f5a4dd3e3908": {
      "model_module": "@jupyter-widgets/base",
      "model_module_version": "1.2.0",
      "model_name": "LayoutModel",
      "state": {}
     },
     "492ddf54beca4d6ea363c5aedefee408": {
      "model_module": "@jupyter-widgets/controls",
      "model_module_version": "1.5.0",
      "model_name": "DescriptionStyleModel",
      "state": {
       "description_width": ""
      }
     },
     "4ab5bd24dc8649c79db5ea132da1330c": {
      "model_module": "@jupyter-widgets/base",
      "model_module_version": "1.2.0",
      "model_name": "LayoutModel",
      "state": {}
     },
     "4c1b60bbbaa342db8a94213384378bfe": {
      "model_module": "@jupyter-widgets/base",
      "model_module_version": "1.2.0",
      "model_name": "LayoutModel",
      "state": {}
     },
     "525fcf2197c44819afb59b964e59b00b": {
      "model_module": "@jupyter-widgets/controls",
      "model_module_version": "1.5.0",
      "model_name": "ProgressStyleModel",
      "state": {
       "description_width": ""
      }
     },
     "5842d1410b5644a2bfcab3ac503089a7": {
      "model_module": "@jupyter-widgets/controls",
      "model_module_version": "1.5.0",
      "model_name": "DescriptionStyleModel",
      "state": {
       "description_width": ""
      }
     },
     "5bb9988b88a04b85b96b72056d5cfc74": {
      "model_module": "@jupyter-widgets/controls",
      "model_module_version": "1.5.0",
      "model_name": "DescriptionStyleModel",
      "state": {
       "description_width": ""
      }
     },
     "5c9b619c8d224795ae97fdd72c54b43b": {
      "model_module": "@jupyter-widgets/base",
      "model_module_version": "1.2.0",
      "model_name": "LayoutModel",
      "state": {}
     },
     "5cc1a84af8bb4c4bb565acf49bd599c7": {
      "model_module": "@jupyter-widgets/base",
      "model_module_version": "1.2.0",
      "model_name": "LayoutModel",
      "state": {}
     },
     "600c38be8125469c8ea9aed0813efde7": {
      "model_module": "@jupyter-widgets/base",
      "model_module_version": "1.2.0",
      "model_name": "LayoutModel",
      "state": {}
     },
     "6219481d08244c2fbc18e2c75404ad7f": {
      "model_module": "@jupyter-widgets/controls",
      "model_module_version": "1.5.0",
      "model_name": "DescriptionStyleModel",
      "state": {
       "description_width": ""
      }
     },
     "625d53ff1db64dcaa9e8973c5d954ee0": {
      "model_module": "@jupyter-widgets/controls",
      "model_module_version": "1.5.0",
      "model_name": "DescriptionStyleModel",
      "state": {
       "description_width": ""
      }
     },
     "6478d5a599444884919cff5d94e768f9": {
      "model_module": "@jupyter-widgets/base",
      "model_module_version": "1.2.0",
      "model_name": "LayoutModel",
      "state": {}
     },
     "6af954e9edc0424da4d27296604ca1db": {
      "model_module": "@jupyter-widgets/controls",
      "model_module_version": "1.5.0",
      "model_name": "HTMLModel",
      "state": {
       "layout": "IPY_MODEL_873c251e7c9c4ce2af8ffe8d92f9ec22",
       "style": "IPY_MODEL_a6cf76772cf14839af64571732ec5ff3",
       "value": "Shuffling fashion_mnist-test.tfrecord...:   0%"
      }
     },
     "6b351a3bc0cb40abb0b8e6542b586775": {
      "model_module": "@jupyter-widgets/controls",
      "model_module_version": "1.5.0",
      "model_name": "HTMLModel",
      "state": {
       "layout": "IPY_MODEL_4c1b60bbbaa342db8a94213384378bfe",
       "style": "IPY_MODEL_6219481d08244c2fbc18e2c75404ad7f",
       "value": " 0/10000 [00:00&lt;?, ? examples/s]"
      }
     },
     "7636f9c6b3ed4d3089da8fcb08295335": {
      "model_module": "@jupyter-widgets/controls",
      "model_module_version": "1.5.0",
      "model_name": "ProgressStyleModel",
      "state": {
       "description_width": ""
      }
     },
     "81b48e4e19a24ec7b6e49e701904a4e1": {
      "model_module": "@jupyter-widgets/base",
      "model_module_version": "1.2.0",
      "model_name": "LayoutModel",
      "state": {}
     },
     "85fb32b35b4b48dfa38e2a4899b80e45": {
      "model_module": "@jupyter-widgets/base",
      "model_module_version": "1.2.0",
      "model_name": "LayoutModel",
      "state": {}
     },
     "8636dd13f9aa471b86931b784fbc4fa4": {
      "model_module": "@jupyter-widgets/base",
      "model_module_version": "1.2.0",
      "model_name": "LayoutModel",
      "state": {}
     },
     "873c251e7c9c4ce2af8ffe8d92f9ec22": {
      "model_module": "@jupyter-widgets/base",
      "model_module_version": "1.2.0",
      "model_name": "LayoutModel",
      "state": {}
     },
     "8a47bd2316fd4c2d95155f9733b7952b": {
      "model_module": "@jupyter-widgets/controls",
      "model_module_version": "1.5.0",
      "model_name": "ProgressStyleModel",
      "state": {
       "description_width": ""
      }
     },
     "8d62f2c6da1f4580b4d9c64917a6dd09": {
      "model_module": "@jupyter-widgets/base",
      "model_module_version": "1.2.0",
      "model_name": "LayoutModel",
      "state": {}
     },
     "8e2e62c6f4ec4782a792f56ec569d6d6": {
      "model_module": "@jupyter-widgets/base",
      "model_module_version": "1.2.0",
      "model_name": "LayoutModel",
      "state": {}
     },
     "99ba0716243a4db7b307ea9a49ca3b31": {
      "model_module": "@jupyter-widgets/controls",
      "model_module_version": "1.5.0",
      "model_name": "FloatProgressModel",
      "state": {
       "layout": "IPY_MODEL_1daf928e6eef4045b8b28b8b4d6e2a81",
       "max": 60000,
       "style": "IPY_MODEL_39e2f0aa150e4c5685a69b12118cd0dd",
       "value": 60000
      }
     },
     "9db77d4f03624118a4bc8f3df9bf02e3": {
      "model_module": "@jupyter-widgets/controls",
      "model_module_version": "1.5.0",
      "model_name": "DescriptionStyleModel",
      "state": {
       "description_width": ""
      }
     },
     "9f06393d3ec6476b87b63e3995fbdbc4": {
      "model_module": "@jupyter-widgets/controls",
      "model_module_version": "1.5.0",
      "model_name": "FloatProgressModel",
      "state": {
       "layout": "IPY_MODEL_a57b23d10df146588b9b48e15a8b41da",
       "max": 2,
       "style": "IPY_MODEL_2806b0b35e874067ac5819e4bf0f0d77",
       "value": 2
      }
     },
     "9f49cf92dbd8406d84274571477c09b9": {
      "model_module": "@jupyter-widgets/controls",
      "model_module_version": "1.5.0",
      "model_name": "HBoxModel",
      "state": {
       "children": [
        "IPY_MODEL_f76f3f04630e42768d872436fbfac1cf",
        "IPY_MODEL_cb667b2f26ab4bb38a212d70751ee82f",
        "IPY_MODEL_f6290526ba0c47deb19b12899cd6de4f"
       ],
       "layout": "IPY_MODEL_a925d82e76f14d4a8d85d4bd6038b394"
      }
     },
     "9f4b42a33c7048d298f6178ef41bf27d": {
      "model_module": "@jupyter-widgets/controls",
      "model_module_version": "1.5.0",
      "model_name": "FloatProgressModel",
      "state": {
       "layout": "IPY_MODEL_4ab5bd24dc8649c79db5ea132da1330c",
       "max": 60000,
       "style": "IPY_MODEL_525fcf2197c44819afb59b964e59b00b",
       "value": 60000
      }
     },
     "a57b23d10df146588b9b48e15a8b41da": {
      "model_module": "@jupyter-widgets/base",
      "model_module_version": "1.2.0",
      "model_name": "LayoutModel",
      "state": {}
     },
     "a6cf76772cf14839af64571732ec5ff3": {
      "model_module": "@jupyter-widgets/controls",
      "model_module_version": "1.5.0",
      "model_name": "DescriptionStyleModel",
      "state": {
       "description_width": ""
      }
     },
     "a778ccbf648842678d1c69087a9b57a6": {
      "model_module": "@jupyter-widgets/controls",
      "model_module_version": "1.5.0",
      "model_name": "HTMLModel",
      "state": {
       "layout": "IPY_MODEL_5cc1a84af8bb4c4bb565acf49bd599c7",
       "style": "IPY_MODEL_ed5c7d70c0854701b0376cea2c3ee05d",
       "value": " 9943/10000 [00:03&lt;00:00, 2950.57 examples/s]"
      }
     },
     "a925d82e76f14d4a8d85d4bd6038b394": {
      "model_module": "@jupyter-widgets/base",
      "model_module_version": "1.2.0",
      "model_name": "LayoutModel",
      "state": {}
     },
     "ae0738c6037d4adc8cd57fb67a521f92": {
      "model_module": "@jupyter-widgets/base",
      "model_module_version": "1.2.0",
      "model_name": "LayoutModel",
      "state": {}
     },
     "b0c66dfafe2349aba7108e969c41232a": {
      "model_module": "@jupyter-widgets/base",
      "model_module_version": "1.2.0",
      "model_name": "LayoutModel",
      "state": {}
     },
     "b72f074ffbff4fb5ae14abaf6e9e614b": {
      "model_module": "@jupyter-widgets/base",
      "model_module_version": "1.2.0",
      "model_name": "LayoutModel",
      "state": {}
     },
     "b8efe900527241ccb84c207d171cf802": {
      "model_module": "@jupyter-widgets/base",
      "model_module_version": "1.2.0",
      "model_name": "LayoutModel",
      "state": {}
     },
     "babafc0ca1424b798800918d8b61da6e": {
      "model_module": "@jupyter-widgets/controls",
      "model_module_version": "1.5.0",
      "model_name": "ProgressStyleModel",
      "state": {
       "description_width": ""
      }
     },
     "c22de42e0a4a4b0a843e04c3a8429276": {
      "model_module": "@jupyter-widgets/controls",
      "model_module_version": "1.5.0",
      "model_name": "FloatProgressModel",
      "state": {
       "bar_style": "success",
       "layout": "IPY_MODEL_0df751858d5a4d3c84ef243ddda6eab0",
       "max": 1,
       "style": "IPY_MODEL_f94d488b78e04b9094efa158240491ae",
       "value": 1
      }
     },
     "c2acd6ed5fba4183931108eb8d755258": {
      "model_module": "@jupyter-widgets/base",
      "model_module_version": "1.2.0",
      "model_name": "LayoutModel",
      "state": {}
     },
     "c3f92f677ac84d968bdf8e7d28990456": {
      "model_module": "@jupyter-widgets/controls",
      "model_module_version": "1.5.0",
      "model_name": "FloatProgressModel",
      "state": {
       "layout": "IPY_MODEL_8e2e62c6f4ec4782a792f56ec569d6d6",
       "max": 10000,
       "style": "IPY_MODEL_7636f9c6b3ed4d3089da8fcb08295335",
       "value": 10000
      }
     },
     "c6c8958675c8454c939314abb511817b": {
      "model_module": "@jupyter-widgets/controls",
      "model_module_version": "1.5.0",
      "model_name": "HTMLModel",
      "state": {
       "layout": "IPY_MODEL_e233861514ab44dd8bc4e358f185ceff",
       "style": "IPY_MODEL_2f81afe3440c41489b7a130eee60ee66",
       "value": "Shuffling fashion_mnist-train.tfrecord...:  78%"
      }
     },
     "c6eede37910742889076be9c217f347b": {
      "model_module": "@jupyter-widgets/controls",
      "model_module_version": "1.5.0",
      "model_name": "HTMLModel",
      "state": {
       "layout": "IPY_MODEL_e6aea21c92cb438584e299cc813e70b2",
       "style": "IPY_MODEL_625d53ff1db64dcaa9e8973c5d954ee0",
       "value": " 4/4 [01:18&lt;00:00, 29.44s/ url]"
      }
     },
     "cb667b2f26ab4bb38a212d70751ee82f": {
      "model_module": "@jupyter-widgets/controls",
      "model_module_version": "1.5.0",
      "model_name": "FloatProgressModel",
      "state": {
       "bar_style": "success",
       "layout": "IPY_MODEL_477c5e7018de4b2688dbccb5751cc0c8",
       "max": 1,
       "style": "IPY_MODEL_babafc0ca1424b798800918d8b61da6e",
       "value": 1
      }
     },
     "cca6ab2a91944e7e9a910ea5fe014f07": {
      "model_module": "@jupyter-widgets/controls",
      "model_module_version": "1.5.0",
      "model_name": "DescriptionStyleModel",
      "state": {
       "description_width": ""
      }
     },
     "ccee7d633e644d668b60d10df7beeeff": {
      "model_module": "@jupyter-widgets/controls",
      "model_module_version": "1.5.0",
      "model_name": "HTMLModel",
      "state": {
       "layout": "IPY_MODEL_b8efe900527241ccb84c207d171cf802",
       "style": "IPY_MODEL_d831dc62616f4401acfcd8090be8c3ea",
       "value": " 2/2 [00:25&lt;00:00, 11.13s/ splits]"
      }
     },
     "cdd6149a842e4812b40887f4cf65d3b5": {
      "model_module": "@jupyter-widgets/controls",
      "model_module_version": "1.5.0",
      "model_name": "FloatProgressModel",
      "state": {
       "bar_style": "success",
       "layout": "IPY_MODEL_450bbb00bd1c49d5a8fb4332e4107192",
       "max": 1,
       "style": "IPY_MODEL_8a47bd2316fd4c2d95155f9733b7952b",
       "value": 1
      }
     },
     "d5389ffa86c045eaaf05db66290af84e": {
      "model_module": "@jupyter-widgets/base",
      "model_module_version": "1.2.0",
      "model_name": "LayoutModel",
      "state": {}
     },
     "d607b6b6022c4d10bbe5d8445a54d348": {
      "model_module": "@jupyter-widgets/base",
      "model_module_version": "1.2.0",
      "model_name": "LayoutModel",
      "state": {}
     },
     "d831dc62616f4401acfcd8090be8c3ea": {
      "model_module": "@jupyter-widgets/controls",
      "model_module_version": "1.5.0",
      "model_name": "DescriptionStyleModel",
      "state": {
       "description_width": ""
      }
     },
     "d8ea1c1669d744019da2f3b16d974c89": {
      "model_module": "@jupyter-widgets/base",
      "model_module_version": "1.2.0",
      "model_name": "LayoutModel",
      "state": {}
     },
     "e233861514ab44dd8bc4e358f185ceff": {
      "model_module": "@jupyter-widgets/base",
      "model_module_version": "1.2.0",
      "model_name": "LayoutModel",
      "state": {}
     },
     "e2d6f69ea5574b0a88c8f0f49c1e7f2f": {
      "model_module": "@jupyter-widgets/controls",
      "model_module_version": "1.5.0",
      "model_name": "FloatProgressModel",
      "state": {
       "layout": "IPY_MODEL_8d62f2c6da1f4580b4d9c64917a6dd09",
       "max": 10000,
       "style": "IPY_MODEL_eaf406770a28404ab5cf6586439d4d38",
       "value": 10000
      }
     },
     "e3a4b505c90a417685469607347ee6dc": {
      "model_module": "@jupyter-widgets/base",
      "model_module_version": "1.2.0",
      "model_name": "LayoutModel",
      "state": {}
     },
     "e6aea21c92cb438584e299cc813e70b2": {
      "model_module": "@jupyter-widgets/base",
      "model_module_version": "1.2.0",
      "model_name": "LayoutModel",
      "state": {}
     },
     "eae8f46c4a464e9aa10c406a2d293add": {
      "model_module": "@jupyter-widgets/controls",
      "model_module_version": "1.5.0",
      "model_name": "HTMLModel",
      "state": {
       "layout": "IPY_MODEL_600c38be8125469c8ea9aed0813efde7",
       "style": "IPY_MODEL_1f41453299664c558074232400330ddc",
       "value": "Dl Size...: 100%"
      }
     },
     "eaf406770a28404ab5cf6586439d4d38": {
      "model_module": "@jupyter-widgets/controls",
      "model_module_version": "1.5.0",
      "model_name": "ProgressStyleModel",
      "state": {
       "description_width": ""
      }
     },
     "ed5c7d70c0854701b0376cea2c3ee05d": {
      "model_module": "@jupyter-widgets/controls",
      "model_module_version": "1.5.0",
      "model_name": "DescriptionStyleModel",
      "state": {
       "description_width": ""
      }
     },
     "f3f87baae60c44ad9950eb35bcbe38f5": {
      "model_module": "@jupyter-widgets/controls",
      "model_module_version": "1.5.0",
      "model_name": "HTMLModel",
      "state": {
       "layout": "IPY_MODEL_81b48e4e19a24ec7b6e49e701904a4e1",
       "style": "IPY_MODEL_cca6ab2a91944e7e9a910ea5fe014f07",
       "value": " 29/29 [01:18&lt;00:00,  2.79s/ MiB]"
      }
     },
     "f5abc63e555e47aba590371886221238": {
      "model_module": "@jupyter-widgets/controls",
      "model_module_version": "1.5.0",
      "model_name": "HTMLModel",
      "state": {
       "layout": "IPY_MODEL_85fb32b35b4b48dfa38e2a4899b80e45",
       "style": "IPY_MODEL_9db77d4f03624118a4bc8f3df9bf02e3",
       "value": " 59926/60000 [00:21&lt;00:00, 2930.22 examples/s]"
      }
     },
     "f6290526ba0c47deb19b12899cd6de4f": {
      "model_module": "@jupyter-widgets/controls",
      "model_module_version": "1.5.0",
      "model_name": "HTMLModel",
      "state": {
       "layout": "IPY_MODEL_c2acd6ed5fba4183931108eb8d755258",
       "style": "IPY_MODEL_4712a88d16484174b8e22126c72c5e6f",
       "value": " 4/4 [01:18&lt;00:00, 29.60s/ file]"
      }
     },
     "f6d954e25caf476cbf937e4b958cfc62": {
      "model_module": "@jupyter-widgets/base",
      "model_module_version": "1.2.0",
      "model_name": "LayoutModel",
      "state": {}
     },
     "f76f3f04630e42768d872436fbfac1cf": {
      "model_module": "@jupyter-widgets/controls",
      "model_module_version": "1.5.0",
      "model_name": "HTMLModel",
      "state": {
       "layout": "IPY_MODEL_d8ea1c1669d744019da2f3b16d974c89",
       "style": "IPY_MODEL_492ddf54beca4d6ea363c5aedefee408",
       "value": "Extraction completed...: 100%"
      }
     },
     "f94d488b78e04b9094efa158240491ae": {
      "model_module": "@jupyter-widgets/controls",
      "model_module_version": "1.5.0",
      "model_name": "ProgressStyleModel",
      "state": {
       "description_width": ""
      }
     },
     "fb9d28d7b1ec46c797ab788ddafc9c29": {
      "model_module": "@jupyter-widgets/controls",
      "model_module_version": "1.5.0",
      "model_name": "DescriptionStyleModel",
      "state": {
       "description_width": ""
      }
     }
    },
    "version_major": 2,
    "version_minor": 0
   }
  }
 },
 "nbformat": 4,
 "nbformat_minor": 5
}
